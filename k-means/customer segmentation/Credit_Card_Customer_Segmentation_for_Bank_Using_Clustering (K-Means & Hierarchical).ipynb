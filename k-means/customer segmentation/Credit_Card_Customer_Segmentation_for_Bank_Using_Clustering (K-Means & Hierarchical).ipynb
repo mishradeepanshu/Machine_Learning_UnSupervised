{
 "cells": [
  {
   "cell_type": "code",
   "execution_count": 1,
   "metadata": {
    "executionInfo": {
     "elapsed": 1049,
     "status": "ok",
     "timestamp": 1680068330335,
     "user": {
      "displayName": "AIML Program",
      "userId": "12349933480812372345"
     },
     "user_tz": -330
    },
    "id": "PJ611-gWXhaD"
   },
   "outputs": [],
   "source": [
    "# importing libraries\n",
    "\n",
    "import pandas as pd\n",
    "import numpy as np\n",
    "import matplotlib.pyplot as plt\n",
    "import seaborn as sns\n",
    "\n",
    "import warnings\n",
    "warnings.filterwarnings('ignore') # To supress warnings"
   ]
  },
  {
   "cell_type": "code",
   "execution_count": 2,
   "metadata": {
    "executionInfo": {
     "elapsed": 2,
     "status": "ok",
     "timestamp": 1680068330945,
     "user": {
      "displayName": "AIML Program",
      "userId": "12349933480812372345"
     },
     "user_tz": -330
    },
    "id": "A5OmddbyXhaH"
   },
   "outputs": [],
   "source": [
    "# Read the dataset\n",
    "data = pd.read_excel(\"Credit Card Customer Data.xlsx\")"
   ]
  },
  {
   "cell_type": "code",
   "execution_count": 3,
   "metadata": {
    "colab": {
     "base_uri": "https://localhost:8080/",
     "height": 206
    },
    "executionInfo": {
     "elapsed": 5,
     "status": "ok",
     "timestamp": 1680068332337,
     "user": {
      "displayName": "AIML Program",
      "userId": "12349933480812372345"
     },
     "user_tz": -330
    },
    "id": "4plo957iXhaI",
    "outputId": "477f3d4f-52ed-498e-9cfe-17176d5a4c71"
   },
   "outputs": [
    {
     "data": {
      "text/html": [
       "<div>\n",
       "<style scoped>\n",
       "    .dataframe tbody tr th:only-of-type {\n",
       "        vertical-align: middle;\n",
       "    }\n",
       "\n",
       "    .dataframe tbody tr th {\n",
       "        vertical-align: top;\n",
       "    }\n",
       "\n",
       "    .dataframe thead th {\n",
       "        text-align: right;\n",
       "    }\n",
       "</style>\n",
       "<table border=\"1\" class=\"dataframe\">\n",
       "  <thead>\n",
       "    <tr style=\"text-align: right;\">\n",
       "      <th></th>\n",
       "      <th>Sl_No</th>\n",
       "      <th>Customer Key</th>\n",
       "      <th>Avg_Credit_Limit</th>\n",
       "      <th>Total_Credit_Cards</th>\n",
       "      <th>Total_visits_bank</th>\n",
       "      <th>Total_visits_online</th>\n",
       "      <th>Total_calls_made</th>\n",
       "    </tr>\n",
       "  </thead>\n",
       "  <tbody>\n",
       "    <tr>\n",
       "      <th>0</th>\n",
       "      <td>1</td>\n",
       "      <td>87073</td>\n",
       "      <td>100000</td>\n",
       "      <td>2</td>\n",
       "      <td>1</td>\n",
       "      <td>1</td>\n",
       "      <td>0</td>\n",
       "    </tr>\n",
       "    <tr>\n",
       "      <th>1</th>\n",
       "      <td>2</td>\n",
       "      <td>38414</td>\n",
       "      <td>50000</td>\n",
       "      <td>3</td>\n",
       "      <td>0</td>\n",
       "      <td>10</td>\n",
       "      <td>9</td>\n",
       "    </tr>\n",
       "    <tr>\n",
       "      <th>2</th>\n",
       "      <td>3</td>\n",
       "      <td>17341</td>\n",
       "      <td>50000</td>\n",
       "      <td>7</td>\n",
       "      <td>1</td>\n",
       "      <td>3</td>\n",
       "      <td>4</td>\n",
       "    </tr>\n",
       "    <tr>\n",
       "      <th>3</th>\n",
       "      <td>4</td>\n",
       "      <td>40496</td>\n",
       "      <td>30000</td>\n",
       "      <td>5</td>\n",
       "      <td>1</td>\n",
       "      <td>1</td>\n",
       "      <td>4</td>\n",
       "    </tr>\n",
       "    <tr>\n",
       "      <th>4</th>\n",
       "      <td>5</td>\n",
       "      <td>47437</td>\n",
       "      <td>100000</td>\n",
       "      <td>6</td>\n",
       "      <td>0</td>\n",
       "      <td>12</td>\n",
       "      <td>3</td>\n",
       "    </tr>\n",
       "  </tbody>\n",
       "</table>\n",
       "</div>"
      ],
      "text/plain": [
       "   Sl_No  Customer Key  Avg_Credit_Limit  Total_Credit_Cards  \\\n",
       "0      1         87073            100000                   2   \n",
       "1      2         38414             50000                   3   \n",
       "2      3         17341             50000                   7   \n",
       "3      4         40496             30000                   5   \n",
       "4      5         47437            100000                   6   \n",
       "\n",
       "   Total_visits_bank  Total_visits_online  Total_calls_made  \n",
       "0                  1                    1                 0  \n",
       "1                  0                   10                 9  \n",
       "2                  1                    3                 4  \n",
       "3                  1                    1                 4  \n",
       "4                  0                   12                 3  "
      ]
     },
     "execution_count": 3,
     "metadata": {},
     "output_type": "execute_result"
    }
   ],
   "source": [
    "data.head()"
   ]
  },
  {
   "cell_type": "code",
   "execution_count": 4,
   "metadata": {
    "colab": {
     "base_uri": "https://localhost:8080/"
    },
    "executionInfo": {
     "elapsed": 10,
     "status": "ok",
     "timestamp": 1680068332991,
     "user": {
      "displayName": "AIML Program",
      "userId": "12349933480812372345"
     },
     "user_tz": -330
    },
    "id": "Ig1IhoAbXhaL",
    "outputId": "5be47abd-14f3-46d1-86f3-807fa1e165aa"
   },
   "outputs": [
    {
     "data": {
      "text/plain": [
       "(660, 7)"
      ]
     },
     "execution_count": 4,
     "metadata": {},
     "output_type": "execute_result"
    }
   ],
   "source": [
    "data.shape"
   ]
  },
  {
   "cell_type": "markdown",
   "metadata": {
    "id": "ifEJh0deWsVg"
   },
   "source": [
    "There are 660 records, and 7 columns in the dataset."
   ]
  },
  {
   "cell_type": "code",
   "execution_count": 5,
   "metadata": {
    "colab": {
     "base_uri": "https://localhost:8080/"
    },
    "executionInfo": {
     "elapsed": 9,
     "status": "ok",
     "timestamp": 1680068332992,
     "user": {
      "displayName": "AIML Program",
      "userId": "12349933480812372345"
     },
     "user_tz": -330
    },
    "id": "QhOlmkw6XhaM",
    "outputId": "526cf231-87ba-4a5f-a3c9-119175185c1d",
    "scrolled": true
   },
   "outputs": [
    {
     "name": "stdout",
     "output_type": "stream",
     "text": [
      "<class 'pandas.core.frame.DataFrame'>\n",
      "RangeIndex: 660 entries, 0 to 659\n",
      "Data columns (total 7 columns):\n",
      " #   Column               Non-Null Count  Dtype\n",
      "---  ------               --------------  -----\n",
      " 0   Sl_No                660 non-null    int64\n",
      " 1   Customer Key         660 non-null    int64\n",
      " 2   Avg_Credit_Limit     660 non-null    int64\n",
      " 3   Total_Credit_Cards   660 non-null    int64\n",
      " 4   Total_visits_bank    660 non-null    int64\n",
      " 5   Total_visits_online  660 non-null    int64\n",
      " 6   Total_calls_made     660 non-null    int64\n",
      "dtypes: int64(7)\n",
      "memory usage: 36.2 KB\n"
     ]
    }
   ],
   "source": [
    "data.info()"
   ]
  },
  {
   "cell_type": "code",
   "execution_count": 6,
   "metadata": {
    "colab": {
     "base_uri": "https://localhost:8080/"
    },
    "executionInfo": {
     "elapsed": 2,
     "status": "ok",
     "timestamp": 1680068334264,
     "user": {
      "displayName": "AIML Program",
      "userId": "12349933480812372345"
     },
     "user_tz": -330
    },
    "id": "J3S4itjvXVI7",
    "outputId": "cd4dcf76-e296-4cf5-d237-9c8a864e95e9"
   },
   "outputs": [
    {
     "data": {
      "text/plain": [
       "0"
      ]
     },
     "execution_count": 6,
     "metadata": {},
     "output_type": "execute_result"
    }
   ],
   "source": [
    "# Check for duplicate data\n",
    "\n",
    "data.duplicated().sum()"
   ]
  },
  {
   "cell_type": "markdown",
   "metadata": {
    "id": "YhEBvC8IWxft"
   },
   "source": [
    "#### **Observations**\n",
    "\n",
    "1. There are 660 observations and 7 columns in the dataset.\n",
    "2. All columns have 660 non-null values i.e. there are no missing values.\n",
    "3. All columns are of int64 data type.\n",
    "4. Data contains no duplicate values."
   ]
  },
  {
   "cell_type": "code",
   "execution_count": 7,
   "metadata": {
    "colab": {
     "base_uri": "https://localhost:8080/"
    },
    "executionInfo": {
     "elapsed": 3,
     "status": "ok",
     "timestamp": 1680068335555,
     "user": {
      "displayName": "AIML Program",
      "userId": "12349933480812372345"
     },
     "user_tz": -330
    },
    "id": "f1ZJZzZ3Xtg2",
    "outputId": "3942659c-ed4b-4e24-b261-bded04be53ab"
   },
   "outputs": [
    {
     "data": {
      "text/plain": [
       "Sl_No                  660\n",
       "Customer Key           655\n",
       "Avg_Credit_Limit       110\n",
       "Total_Credit_Cards      10\n",
       "Total_visits_bank        6\n",
       "Total_visits_online     16\n",
       "Total_calls_made        11\n",
       "dtype: int64"
      ]
     },
     "execution_count": 7,
     "metadata": {},
     "output_type": "execute_result"
    }
   ],
   "source": [
    "#figure out the uniques in each column\n",
    "data.nunique()"
   ]
  },
  {
   "cell_type": "markdown",
   "metadata": {
    "id": "UUy96BLje_wy"
   },
   "source": [
    "- Customer key, which is an identifier, has repeated values."
   ]
  },
  {
   "cell_type": "code",
   "execution_count": 8,
   "metadata": {
    "colab": {
     "base_uri": "https://localhost:8080/"
    },
    "executionInfo": {
     "elapsed": 4,
     "status": "ok",
     "timestamp": 1680068337109,
     "user": {
      "displayName": "AIML Program",
      "userId": "12349933480812372345"
     },
     "user_tz": -330
    },
    "id": "uY0C3ig1e3Ki",
    "outputId": "a8adce42-7ace-4a83-8980-1893eae73595"
   },
   "outputs": [
    {
     "data": {
      "text/plain": [
       "0      False\n",
       "1      False\n",
       "2      False\n",
       "3      False\n",
       "4      False\n",
       "       ...  \n",
       "655    False\n",
       "656    False\n",
       "657    False\n",
       "658    False\n",
       "659    False\n",
       "Length: 660, dtype: bool"
      ]
     },
     "execution_count": 8,
     "metadata": {},
     "output_type": "execute_result"
    }
   ],
   "source": [
    "# Identify the duplicated customer keys\n",
    "duplicate_keys = data.duplicated('Customer Key') == True\n",
    "duplicate_keys"
   ]
  },
  {
   "cell_type": "code",
   "execution_count": 9,
   "metadata": {
    "executionInfo": {
     "elapsed": 3,
     "status": "ok",
     "timestamp": 1680068337605,
     "user": {
      "displayName": "AIML Program",
      "userId": "12349933480812372345"
     },
     "user_tz": -330
    },
    "id": "H0IZDPISe3HE"
   },
   "outputs": [],
   "source": [
    "# Drop duplicated keys\n",
    "data = data[duplicate_keys == False]"
   ]
  },
  {
   "cell_type": "code",
   "execution_count": 10,
   "metadata": {
    "executionInfo": {
     "elapsed": 10,
     "status": "ok",
     "timestamp": 1680068339251,
     "user": {
      "displayName": "AIML Program",
      "userId": "12349933480812372345"
     },
     "user_tz": -330
    },
    "id": "hlAZTKdUe3Di"
   },
   "outputs": [],
   "source": [
    "# drop the columns that is not needed for the Analysis\n",
    "data.drop(columns = ['Sl_No', 'Customer Key'], inplace = True)"
   ]
  },
  {
   "cell_type": "code",
   "execution_count": 11,
   "metadata": {
    "colab": {
     "base_uri": "https://localhost:8080/"
    },
    "executionInfo": {
     "elapsed": 9,
     "status": "ok",
     "timestamp": 1680068339253,
     "user": {
      "displayName": "AIML Program",
      "userId": "12349933480812372345"
     },
     "user_tz": -330
    },
    "id": "nO2biUgCgE8c",
    "outputId": "e23e9240-bbc2-4509-8563-19bac6b0c9bc"
   },
   "outputs": [
    {
     "data": {
      "text/plain": [
       "(655, 5)"
      ]
     },
     "execution_count": 11,
     "metadata": {},
     "output_type": "execute_result"
    }
   ],
   "source": [
    "data.shape"
   ]
  },
  {
   "cell_type": "markdown",
   "metadata": {
    "id": "VM8pU34BgH4Z"
   },
   "source": [
    "### Observation\n",
    "\n",
    "- After removing duplicated keys and rows and unnecessary columns, there are 655 unique observations and 5 columns in our data."
   ]
  },
  {
   "cell_type": "markdown",
   "metadata": {
    "id": "PJuuL7wQXhaQ"
   },
   "source": [
    "## Exploratory Data Analysis"
   ]
  },
  {
   "cell_type": "code",
   "execution_count": 12,
   "metadata": {
    "colab": {
     "base_uri": "https://localhost:8080/",
     "height": 206
    },
    "executionInfo": {
     "elapsed": 5,
     "status": "ok",
     "timestamp": 1680068343637,
     "user": {
      "displayName": "AIML Program",
      "userId": "12349933480812372345"
     },
     "user_tz": -330
    },
    "id": "jt3srgPHh-Pj",
    "outputId": "e0542319-434d-4b88-c14b-c62bc397aa44"
   },
   "outputs": [
    {
     "data": {
      "text/html": [
       "<div>\n",
       "<style scoped>\n",
       "    .dataframe tbody tr th:only-of-type {\n",
       "        vertical-align: middle;\n",
       "    }\n",
       "\n",
       "    .dataframe tbody tr th {\n",
       "        vertical-align: top;\n",
       "    }\n",
       "\n",
       "    .dataframe thead th {\n",
       "        text-align: right;\n",
       "    }\n",
       "</style>\n",
       "<table border=\"1\" class=\"dataframe\">\n",
       "  <thead>\n",
       "    <tr style=\"text-align: right;\">\n",
       "      <th></th>\n",
       "      <th>Avg_Credit_Limit</th>\n",
       "      <th>Total_Credit_Cards</th>\n",
       "      <th>Total_visits_bank</th>\n",
       "      <th>Total_visits_online</th>\n",
       "      <th>Total_calls_made</th>\n",
       "    </tr>\n",
       "  </thead>\n",
       "  <tbody>\n",
       "    <tr>\n",
       "      <th>0</th>\n",
       "      <td>100000</td>\n",
       "      <td>2</td>\n",
       "      <td>1</td>\n",
       "      <td>1</td>\n",
       "      <td>0</td>\n",
       "    </tr>\n",
       "    <tr>\n",
       "      <th>1</th>\n",
       "      <td>50000</td>\n",
       "      <td>3</td>\n",
       "      <td>0</td>\n",
       "      <td>10</td>\n",
       "      <td>9</td>\n",
       "    </tr>\n",
       "    <tr>\n",
       "      <th>2</th>\n",
       "      <td>50000</td>\n",
       "      <td>7</td>\n",
       "      <td>1</td>\n",
       "      <td>3</td>\n",
       "      <td>4</td>\n",
       "    </tr>\n",
       "    <tr>\n",
       "      <th>3</th>\n",
       "      <td>30000</td>\n",
       "      <td>5</td>\n",
       "      <td>1</td>\n",
       "      <td>1</td>\n",
       "      <td>4</td>\n",
       "    </tr>\n",
       "    <tr>\n",
       "      <th>4</th>\n",
       "      <td>100000</td>\n",
       "      <td>6</td>\n",
       "      <td>0</td>\n",
       "      <td>12</td>\n",
       "      <td>3</td>\n",
       "    </tr>\n",
       "  </tbody>\n",
       "</table>\n",
       "</div>"
      ],
      "text/plain": [
       "   Avg_Credit_Limit  Total_Credit_Cards  Total_visits_bank  \\\n",
       "0            100000                   2                  1   \n",
       "1             50000                   3                  0   \n",
       "2             50000                   7                  1   \n",
       "3             30000                   5                  1   \n",
       "4            100000                   6                  0   \n",
       "\n",
       "   Total_visits_online  Total_calls_made  \n",
       "0                    1                 0  \n",
       "1                   10                 9  \n",
       "2                    3                 4  \n",
       "3                    1                 4  \n",
       "4                   12                 3  "
      ]
     },
     "execution_count": 12,
     "metadata": {},
     "output_type": "execute_result"
    }
   ],
   "source": [
    "data.head()"
   ]
  },
  {
   "cell_type": "markdown",
   "metadata": {
    "id": "WyJQwzvgkpCy"
   },
   "source": [
    "**Summary Statistics**"
   ]
  },
  {
   "cell_type": "code",
   "execution_count": 13,
   "metadata": {
    "colab": {
     "base_uri": "https://localhost:8080/",
     "height": 300
    },
    "executionInfo": {
     "elapsed": 521,
     "status": "ok",
     "timestamp": 1680068347646,
     "user": {
      "displayName": "AIML Program",
      "userId": "12349933480812372345"
     },
     "user_tz": -330
    },
    "id": "i3e2uq3UkhUQ",
    "outputId": "a10784b8-a84b-4ec2-baca-d704c14c82f9"
   },
   "outputs": [
    {
     "data": {
      "text/html": [
       "<div>\n",
       "<style scoped>\n",
       "    .dataframe tbody tr th:only-of-type {\n",
       "        vertical-align: middle;\n",
       "    }\n",
       "\n",
       "    .dataframe tbody tr th {\n",
       "        vertical-align: top;\n",
       "    }\n",
       "\n",
       "    .dataframe thead th {\n",
       "        text-align: right;\n",
       "    }\n",
       "</style>\n",
       "<table border=\"1\" class=\"dataframe\">\n",
       "  <thead>\n",
       "    <tr style=\"text-align: right;\">\n",
       "      <th></th>\n",
       "      <th>Avg_Credit_Limit</th>\n",
       "      <th>Total_Credit_Cards</th>\n",
       "      <th>Total_visits_bank</th>\n",
       "      <th>Total_visits_online</th>\n",
       "      <th>Total_calls_made</th>\n",
       "    </tr>\n",
       "  </thead>\n",
       "  <tbody>\n",
       "    <tr>\n",
       "      <th>count</th>\n",
       "      <td>655.000000</td>\n",
       "      <td>655.000000</td>\n",
       "      <td>655.000000</td>\n",
       "      <td>655.000000</td>\n",
       "      <td>655.000000</td>\n",
       "    </tr>\n",
       "    <tr>\n",
       "      <th>mean</th>\n",
       "      <td>34242.748092</td>\n",
       "      <td>4.691603</td>\n",
       "      <td>2.401527</td>\n",
       "      <td>2.606107</td>\n",
       "      <td>3.601527</td>\n",
       "    </tr>\n",
       "    <tr>\n",
       "      <th>std</th>\n",
       "      <td>37240.896986</td>\n",
       "      <td>2.169325</td>\n",
       "      <td>1.633648</td>\n",
       "      <td>2.940380</td>\n",
       "      <td>2.867352</td>\n",
       "    </tr>\n",
       "    <tr>\n",
       "      <th>min</th>\n",
       "      <td>3000.000000</td>\n",
       "      <td>1.000000</td>\n",
       "      <td>0.000000</td>\n",
       "      <td>0.000000</td>\n",
       "      <td>0.000000</td>\n",
       "    </tr>\n",
       "    <tr>\n",
       "      <th>25%</th>\n",
       "      <td>10000.000000</td>\n",
       "      <td>3.000000</td>\n",
       "      <td>1.000000</td>\n",
       "      <td>1.000000</td>\n",
       "      <td>1.000000</td>\n",
       "    </tr>\n",
       "    <tr>\n",
       "      <th>50%</th>\n",
       "      <td>18000.000000</td>\n",
       "      <td>5.000000</td>\n",
       "      <td>2.000000</td>\n",
       "      <td>2.000000</td>\n",
       "      <td>3.000000</td>\n",
       "    </tr>\n",
       "    <tr>\n",
       "      <th>75%</th>\n",
       "      <td>48000.000000</td>\n",
       "      <td>6.000000</td>\n",
       "      <td>4.000000</td>\n",
       "      <td>4.000000</td>\n",
       "      <td>5.000000</td>\n",
       "    </tr>\n",
       "    <tr>\n",
       "      <th>max</th>\n",
       "      <td>200000.000000</td>\n",
       "      <td>10.000000</td>\n",
       "      <td>5.000000</td>\n",
       "      <td>15.000000</td>\n",
       "      <td>10.000000</td>\n",
       "    </tr>\n",
       "  </tbody>\n",
       "</table>\n",
       "</div>"
      ],
      "text/plain": [
       "       Avg_Credit_Limit  Total_Credit_Cards  Total_visits_bank  \\\n",
       "count        655.000000          655.000000         655.000000   \n",
       "mean       34242.748092            4.691603           2.401527   \n",
       "std        37240.896986            2.169325           1.633648   \n",
       "min         3000.000000            1.000000           0.000000   \n",
       "25%        10000.000000            3.000000           1.000000   \n",
       "50%        18000.000000            5.000000           2.000000   \n",
       "75%        48000.000000            6.000000           4.000000   \n",
       "max       200000.000000           10.000000           5.000000   \n",
       "\n",
       "       Total_visits_online  Total_calls_made  \n",
       "count           655.000000        655.000000  \n",
       "mean              2.606107          3.601527  \n",
       "std               2.940380          2.867352  \n",
       "min               0.000000          0.000000  \n",
       "25%               1.000000          1.000000  \n",
       "50%               2.000000          3.000000  \n",
       "75%               4.000000          5.000000  \n",
       "max              15.000000         10.000000  "
      ]
     },
     "execution_count": 13,
     "metadata": {},
     "output_type": "execute_result"
    }
   ],
   "source": [
    "data.describe()"
   ]
  },
  {
   "cell_type": "markdown",
   "metadata": {
    "id": "W1BqBAS5k_b5"
   },
   "source": [
    "- Credit limit average is around 35K with 50% of customers having a credit limit less than 18K, which implies a high positive skewness."
   ]
  },
  {
   "cell_type": "markdown",
   "metadata": {
    "id": "caP_ZqsakZXE"
   },
   "source": [
    "### Univariate Analysis"
   ]
  },
  {
   "cell_type": "markdown",
   "metadata": {
    "id": "6kE3m-kVkKXC"
   },
   "source": [
    "#### **Distribution Plot**"
   ]
  },
  {
   "cell_type": "code",
   "execution_count": 14,
   "metadata": {
    "colab": {
     "base_uri": "https://localhost:8080/",
     "height": 471
    },
    "executionInfo": {
     "elapsed": 10,
     "status": "ok",
     "timestamp": 1680068353072,
     "user": {
      "displayName": "AIML Program",
      "userId": "12349933480812372345"
     },
     "user_tz": -330
    },
    "id": "OLLoKufriD-n",
    "outputId": "4a39c5f4-8143-4468-9b75-0740441787ad"
   },
   "outputs": [
    {
     "data": {
      "text/plain": [
       "<Axes: xlabel='Avg_Credit_Limit', ylabel='Density'>"
      ]
     },
     "execution_count": 14,
     "metadata": {},
     "output_type": "execute_result"
    },
    {
     "data": {
      "image/png": "[encoded data removed]",
      "text/plain": [
       "<Figure size 1400x700 with 1 Axes>"
      ]
     },
     "metadata": {},
     "output_type": "display_data"
    }
   ],
   "source": [
    "plt.figure(figsize = (14, 7))\n",
    "sns.distplot(data['Avg_Credit_Limit'])"
   ]
  },
  {
   "cell_type": "code",
   "execution_count": 15,
   "metadata": {
    "colab": {
     "base_uri": "https://localhost:8080/",
     "height": 445
    },
    "executionInfo": {
     "elapsed": 608,
     "status": "ok",
     "timestamp": 1680068353673,
     "user": {
      "displayName": "AIML Program",
      "userId": "12349933480812372345"
     },
     "user_tz": -330
    },
    "id": "fBvdNDC6lHWc",
    "outputId": "c9b4aa97-a31f-4513-adaf-5c0448808690"
   },
   "outputs": [
    {
     "data": {
      "text/plain": [
       "<Axes: >"
      ]
     },
     "execution_count": 15,
     "metadata": {},
     "output_type": "execute_result"
    },
    {
     "data": {
      "image/png": "[encoded data removed]",
      "text/plain": [
       "<Figure size 1400x700 with 1 Axes>"
      ]
     },
     "metadata": {},
     "output_type": "display_data"
    }
   ],
   "source": [
    "plt.figure(figsize = (14, 7))\n",
    "sns.boxplot(data['Avg_Credit_Limit'])"
   ]
  },
  {
   "cell_type": "markdown",
   "metadata": {
    "id": "YKbtuKVnoN9a"
   },
   "source": [
    "*The Average Credit Limit is right skewed with a lot of outliers.*"
   ]
  },
  {
   "cell_type": "code",
   "execution_count": 16,
   "metadata": {
    "colab": {
     "base_uri": "https://localhost:8080/"
    },
    "executionInfo": {
     "elapsed": 3,
     "status": "ok",
     "timestamp": 1680068355214,
     "user": {
      "displayName": "AIML Program",
      "userId": "12349933480812372345"
     },
     "user_tz": -330
    },
    "id": "SuuSSXMJpcml",
    "outputId": "0e9ea3a5-ac35-4857-f538-a4b28a7eca57"
   },
   "outputs": [
    {
     "data": {
      "text/plain": [
       "Index(['Avg_Credit_Limit', 'Total_Credit_Cards', 'Total_visits_bank',\n",
       "       'Total_visits_online', 'Total_calls_made'],\n",
       "      dtype='object')"
      ]
     },
     "execution_count": 16,
     "metadata": {},
     "output_type": "execute_result"
    }
   ],
   "source": [
    "data.columns"
   ]
  },
  {
   "cell_type": "code",
   "execution_count": 17,
   "metadata": {
    "colab": {
     "base_uri": "https://localhost:8080/",
     "height": 1000
    },
    "executionInfo": {
     "elapsed": 2745,
     "status": "ok",
     "timestamp": 1680068366242,
     "user": {
      "displayName": "AIML Program",
      "userId": "12349933480812372345"
     },
     "user_tz": -330
    },
    "id": "URj6YAEZpWdP",
    "outputId": "bb8dfa46-f392-44d5-bcc6-c6e0a8d15a64"
   },
   "outputs": [
    {
     "data": {
      "image/png": "[encoded data removed]",
      "text/plain": [
       "<Figure size 2000x2300 with 4 Axes>"
      ]
     },
     "metadata": {},
     "output_type": "display_data"
    }
   ],
   "source": [
    "fig, ax = plt.subplots(nrows=4, ncols=1, figsize=(20, 23))\n",
    "\n",
    "cols_ = ['Total_Credit_Cards', 'Total_visits_bank', 'Total_visits_online', 'Total_calls_made']\n",
    "\n",
    "for ind, col in enumerate(cols_):\n",
    "    sns.countplot(x=col, data=data, ax=ax[ind])"
   ]
  },
  {
   "cell_type": "markdown",
   "metadata": {
    "id": "-KigasvTp5ON"
   },
   "source": [
    "### Observations\n",
    "\n",
    "1. The above graph shows that the maximum customers have 4 credit cards.\n",
    "2. Majority of customers visited bank for 2 times.\n",
    "3. Majority of customers visited bank online for 2 times followed by 0 times.\n",
    "4. Maximum customers have made 4 calls followed by no calls and 1 call."
   ]
  },
  {
   "cell_type": "markdown",
   "metadata": {
    "id": "um2d5h1Yt1L0"
   },
   "source": [
    "### Multi-variate Analysis"
   ]
  },
  {
   "cell_type": "code",
   "execution_count": 18,
   "metadata": {
    "colab": {
     "base_uri": "https://localhost:8080/",
     "height": 488
    },
    "executionInfo": {
     "elapsed": 696,
     "status": "ok",
     "timestamp": 1680068366933,
     "user": {
      "displayName": "AIML Program",
      "userId": "12349933480812372345"
     },
     "user_tz": -330
    },
    "id": "huXtCAMqXhaf",
    "outputId": "702cd792-9d83-40fe-b6f1-411e5192d4f9",
    "scrolled": true
   },
   "outputs": [
    {
     "data": {
      "image/png": "[encoded data removed]",
      "text/plain": [
       "<Figure size 1500x800 with 2 Axes>"
      ]
     },
     "metadata": {},
     "output_type": "display_data"
    }
   ],
   "source": [
    "plt.figure(figsize=(15,8))\n",
    "\n",
    "sns.heatmap(data[['Avg_Credit_Limit', 'Total_Credit_Cards', 'Total_visits_bank', 'Total_visits_online', 'Total_calls_made']].corr(), \n",
    "            annot=True, cmap=\"PiYG\");"
   ]
  },
  {
   "cell_type": "markdown",
   "metadata": {
    "id": "AlltSIg_uQMN"
   },
   "source": [
    "#### Observations\n",
    "\n",
    "- Avg_Credit_Limit is positively correlated with Total_Credit_Cards and\n",
    "Total_visits_online which can makes sense.\n",
    "- Avg_Credit_Limit is negatively correlated with Total_calls_made and Total_visits_bank.\n",
    "- Total_visits_bank, Total_visits_online, Total_calls_made are negatively correlated which implies that majority of customers use only one of these channels to contact the bank.\n",
    "- Total credit cards and Total calls made are negatively correlated with each other."
   ]
  },
  {
   "cell_type": "markdown",
   "metadata": {
    "id": "NvFZDZYXXhag"
   },
   "source": [
    "## Data Preprocessing"
   ]
  },
  {
   "cell_type": "markdown",
   "metadata": {
    "id": "Mur7SnjQvxDk"
   },
   "source": [
    "### **Outlier Detection & Handling**"
   ]
  },
  {
   "cell_type": "code",
   "execution_count": 20,
   "metadata": {
    "executionInfo": {
     "elapsed": 5,
     "status": "ok",
     "timestamp": 1680068367738,
     "user": {
      "displayName": "AIML Program",
      "userId": "12349933480812372345"
     },
     "user_tz": -330
    },
    "id": "SUoSRrGSvu0y"
   },
   "outputs": [],
   "source": [
    "# Outlier Detection For Average Credit Limit\n",
    "\n",
    "Q1 = data['Avg_Credit_Limit'].quantile(0.25)\n",
    "Q3 = data['Avg_Credit_Limit'].quantile(0.75)\n",
    "\n",
    "IQR = Q3 - Q1\n",
    "data = data[(data['Avg_Credit_Limit'] >= Q1 - 3*IQR) & (data['Avg_Credit_Limit'] <= Q3 + 3*IQR)]"
   ]
  },
  {
   "cell_type": "code",
   "execution_count": 21,
   "metadata": {
    "colab": {
     "base_uri": "https://localhost:8080/",
     "height": 592
    },
    "executionInfo": {
     "elapsed": 4,
     "status": "ok",
     "timestamp": 1680068367738,
     "user": {
      "displayName": "AIML Program",
      "userId": "12349933480812372345"
     },
     "user_tz": -330
    },
    "id": "NLAtkbZJvuw5",
    "outputId": "86c3ad27-507f-4433-ad7a-ddbcfd472bee"
   },
   "outputs": [
    {
     "data": {
      "image/png": "[encoded data removed]",
      "text/plain": [
       "<Figure size 1500x1000 with 1 Axes>"
      ]
     },
     "metadata": {},
     "output_type": "display_data"
    }
   ],
   "source": [
    "## Let's visualize the graph after outlier treatment\n",
    "\n",
    "plt.figure(figsize=(15, 10))\n",
    "\n",
    "sns.boxplot(data['Avg_Credit_Limit'], orient = 'v')\n",
    "plt.show()"
   ]
  },
  {
   "cell_type": "code",
   "execution_count": 22,
   "metadata": {
    "colab": {
     "base_uri": "https://localhost:8080/",
     "height": 206
    },
    "executionInfo": {
     "elapsed": 4,
     "status": "ok",
     "timestamp": 1680068368651,
     "user": {
      "displayName": "AIML Program",
      "userId": "12349933480812372345"
     },
     "user_tz": -330
    },
    "id": "HgSzHo_UXhar",
    "outputId": "8b3f8b47-a426-4e6e-eeca-2343029ec915"
   },
   "outputs": [
    {
     "data": {
      "text/html": [
       "<div>\n",
       "<style scoped>\n",
       "    .dataframe tbody tr th:only-of-type {\n",
       "        vertical-align: middle;\n",
       "    }\n",
       "\n",
       "    .dataframe tbody tr th {\n",
       "        vertical-align: top;\n",
       "    }\n",
       "\n",
       "    .dataframe thead th {\n",
       "        text-align: right;\n",
       "    }\n",
       "</style>\n",
       "<table border=\"1\" class=\"dataframe\">\n",
       "  <thead>\n",
       "    <tr style=\"text-align: right;\">\n",
       "      <th></th>\n",
       "      <th>Avg_Credit_Limit</th>\n",
       "      <th>Total_Credit_Cards</th>\n",
       "      <th>Total_visits_bank</th>\n",
       "      <th>Total_visits_online</th>\n",
       "      <th>Total_calls_made</th>\n",
       "    </tr>\n",
       "  </thead>\n",
       "  <tbody>\n",
       "    <tr>\n",
       "      <th>0</th>\n",
       "      <td>100000</td>\n",
       "      <td>2</td>\n",
       "      <td>1</td>\n",
       "      <td>1</td>\n",
       "      <td>0</td>\n",
       "    </tr>\n",
       "    <tr>\n",
       "      <th>1</th>\n",
       "      <td>50000</td>\n",
       "      <td>3</td>\n",
       "      <td>0</td>\n",
       "      <td>10</td>\n",
       "      <td>9</td>\n",
       "    </tr>\n",
       "    <tr>\n",
       "      <th>2</th>\n",
       "      <td>50000</td>\n",
       "      <td>7</td>\n",
       "      <td>1</td>\n",
       "      <td>3</td>\n",
       "      <td>4</td>\n",
       "    </tr>\n",
       "    <tr>\n",
       "      <th>3</th>\n",
       "      <td>30000</td>\n",
       "      <td>5</td>\n",
       "      <td>1</td>\n",
       "      <td>1</td>\n",
       "      <td>4</td>\n",
       "    </tr>\n",
       "    <tr>\n",
       "      <th>4</th>\n",
       "      <td>100000</td>\n",
       "      <td>6</td>\n",
       "      <td>0</td>\n",
       "      <td>12</td>\n",
       "      <td>3</td>\n",
       "    </tr>\n",
       "  </tbody>\n",
       "</table>\n",
       "</div>"
      ],
      "text/plain": [
       "   Avg_Credit_Limit  Total_Credit_Cards  Total_visits_bank  \\\n",
       "0            100000                   2                  1   \n",
       "1             50000                   3                  0   \n",
       "2             50000                   7                  1   \n",
       "3             30000                   5                  1   \n",
       "4            100000                   6                  0   \n",
       "\n",
       "   Total_visits_online  Total_calls_made  \n",
       "0                    1                 0  \n",
       "1                   10                 9  \n",
       "2                    3                 4  \n",
       "3                    1                 4  \n",
       "4                   12                 3  "
      ]
     },
     "execution_count": 22,
     "metadata": {},
     "output_type": "execute_result"
    }
   ],
   "source": [
    "data.head()"
   ]
  },
  {
   "cell_type": "code",
   "execution_count": 23,
   "metadata": {
    "colab": {
     "base_uri": "https://localhost:8080/"
    },
    "executionInfo": {
     "elapsed": 696,
     "status": "ok",
     "timestamp": 1680068370567,
     "user": {
      "displayName": "AIML Program",
      "userId": "12349933480812372345"
     },
     "user_tz": -330
    },
    "id": "JlMklrPnXhas",
    "outputId": "ae004501-d874-41b4-ddee-1d7daef16da9"
   },
   "outputs": [
    {
     "data": {
      "text/plain": [
       "(638, 5)"
      ]
     },
     "execution_count": 23,
     "metadata": {},
     "output_type": "execute_result"
    }
   ],
   "source": [
    "data.shape"
   ]
  },
  {
   "cell_type": "code",
   "execution_count": 24,
   "metadata": {
    "colab": {
     "base_uri": "https://localhost:8080/"
    },
    "executionInfo": {
     "elapsed": 7,
     "status": "ok",
     "timestamp": 1680068437004,
     "user": {
      "displayName": "AIML Program",
      "userId": "12349933480812372345"
     },
     "user_tz": -330
    },
    "id": "YvOeTgSm4OW8",
    "outputId": "ff5c5644-b82a-4125-acea-b598acf21331"
   },
   "outputs": [
    {
     "data": {
      "text/plain": [
       "(638, 5)"
      ]
     },
     "execution_count": 24,
     "metadata": {},
     "output_type": "execute_result"
    }
   ],
   "source": [
    "# Make a copy of Original Dataframe\n",
    "\n",
    "df = data.copy()\n",
    "df.shape"
   ]
  },
  {
   "cell_type": "markdown",
   "metadata": {
    "id": "2JccMvlIxj_O"
   },
   "source": [
    "#### Standardization\n",
    "\n",
    "Before clustering, we should always scale the data, because, different scales of features would result in unintentional importance to the feature of higher scale while calculating the distances."
   ]
  },
  {
   "cell_type": "code",
   "execution_count": 25,
   "metadata": {
    "executionInfo": {
     "elapsed": 3,
     "status": "ok",
     "timestamp": 1680068440417,
     "user": {
      "displayName": "AIML Program",
      "userId": "12349933480812372345"
     },
     "user_tz": -330
    },
    "id": "YGKzQ9d_xqyD"
   },
   "outputs": [],
   "source": [
    "# Standardize the dataset\n",
    "\n",
    "from sklearn.preprocessing import StandardScaler\n",
    "scaler = StandardScaler()\n",
    "std_data = scaler.fit_transform(data)"
   ]
  },
  {
   "cell_type": "code",
   "execution_count": 26,
   "metadata": {
    "colab": {
     "base_uri": "https://localhost:8080/"
    },
    "executionInfo": {
     "elapsed": 2,
     "status": "ok",
     "timestamp": 1680068441158,
     "user": {
      "displayName": "AIML Program",
      "userId": "12349933480812372345"
     },
     "user_tz": -330
    },
    "id": "BDKwSJnhx1F3",
    "outputId": "85efe618-e103-4603-8d52-376c4bc5e632"
   },
   "outputs": [
    {
     "data": {
      "text/plain": [
       "array([[ 2.37167278, -1.24222947, -0.89443095, -0.53765118, -1.28136884],\n",
       "       [ 0.66697118, -0.76102583, -1.51068035,  2.99865246,  1.85888719],\n",
       "       [ 0.66697118,  1.16378875, -0.89443095,  0.24819407,  0.11430051],\n",
       "       ...,\n",
       "       [ 2.33757875,  2.60739968, -0.89443095,  2.99865246, -1.28136884],\n",
       "       [ 1.82616827,  2.60739968, -0.89443095,  4.17742033, -0.58353417],\n",
       "       [ 3.90590423,  1.64499239, -0.89443095,  2.60572983, -0.9324515 ]])"
      ]
     },
     "execution_count": 26,
     "metadata": {},
     "output_type": "execute_result"
    }
   ],
   "source": [
    "std_data"
   ]
  },
  {
   "cell_type": "code",
   "execution_count": 27,
   "metadata": {
    "executionInfo": {
     "elapsed": 2,
     "status": "ok",
     "timestamp": 1680068441642,
     "user": {
      "displayName": "AIML Program",
      "userId": "12349933480812372345"
     },
     "user_tz": -330
    },
    "id": "b_46WyXWwOR9"
   },
   "outputs": [],
   "source": [
    "std_data_x = np.copy(std_data)"
   ]
  },
  {
   "cell_type": "markdown",
   "metadata": {
    "id": "hYHoClTqXhat"
   },
   "source": [
    "## Apply K-Means Clustering Algorithms"
   ]
  },
  {
   "cell_type": "code",
   "execution_count": 31,
   "metadata": {
    "executionInfo": {
     "elapsed": 5,
     "status": "ok",
     "timestamp": 1680068442363,
     "user": {
      "displayName": "AIML Program",
      "userId": "12349933480812372345"
     },
     "user_tz": -330
    },
    "id": "CHJ4-UK0Xhau"
   },
   "outputs": [],
   "source": [
    "from sklearn import metrics\n",
    "from sklearn.metrics import silhouette_score\n",
    "\n",
    "from sklearn.cluster import AgglomerativeClustering\n",
    "from scipy.cluster.hierarchy import dendrogram, linkage\n",
    "\n",
    "from sklearn.cluster import KMeans\n",
    "from sklearn.cluster import DBSCAN\n",
    "\n",
    "from sklearn import cluster \n",
    "from sklearn.cluster import SpectralClustering"
   ]
  },
  {
   "cell_type": "markdown",
   "metadata": {
    "id": "z_KpJmsRXhav"
   },
   "source": [
    "### Determining Number of Clusters with Elbow Method"
   ]
  },
  {
   "cell_type": "code",
   "execution_count": 32,
   "metadata": {
    "executionInfo": {
     "elapsed": 4,
     "status": "ok",
     "timestamp": 1680068443687,
     "user": {
      "displayName": "AIML Program",
      "userId": "12349933480812372345"
     },
     "user_tz": -330
    },
    "id": "oTEfKJhdXhaw"
   },
   "outputs": [],
   "source": [
    "wcss = []\n",
    "cluster_list = range(1, 12)\n",
    "for i in cluster_list :\n",
    "    kmeans = KMeans(n_clusters = i, init = 'k-means++', max_iter = 300, random_state = 40)\n",
    "    kmeans.fit(std_data)\n",
    "    wcss.append(kmeans.inertia_)"
   ]
  },
  {
   "cell_type": "code",
   "execution_count": 33,
   "metadata": {
    "colab": {
     "base_uri": "https://localhost:8080/",
     "height": 567
    },
    "executionInfo": {
     "elapsed": 5,
     "status": "ok",
     "timestamp": 1680068444394,
     "user": {
      "displayName": "AIML Program",
      "userId": "12349933480812372345"
     },
     "user_tz": -330
    },
    "id": "9JS4P3lSXhaw",
    "outputId": "c3945b54-40d6-4407-d445-be67c1309486"
   },
   "outputs": [
    {
     "data": {
      "image/png": "[encoded data removed]",
      "text/plain": [
       "<Figure size 1300x900 with 1 Axes>"
      ]
     },
     "metadata": {},
     "output_type": "display_data"
    }
   ],
   "source": [
    "plt.figure(figsize=(13, 9))\n",
    "plt.plot(cluster_list, wcss)\n",
    "plt.title('The Elbow Graph')\n",
    "plt.xlabel('Clusters')\n",
    "plt.ylabel('WCSS')\n",
    "plt.show()"
   ]
  },
  {
   "cell_type": "markdown",
   "metadata": {
    "id": "UoEndCPlXhax"
   },
   "source": [
    "Now we can see that elbow is bend at cluster no. 3, so we can say that for this particular dataset we can choose 3 clusters."
   ]
  },
  {
   "cell_type": "markdown",
   "metadata": {
    "id": "zUer-UuBXhax"
   },
   "source": [
    "#### Cross Check to Determine the Number of Clusters with Silhouette Scores Method"
   ]
  },
  {
   "cell_type": "code",
   "execution_count": 34,
   "metadata": {
    "colab": {
     "base_uri": "https://localhost:8080/"
    },
    "executionInfo": {
     "elapsed": 990,
     "status": "ok",
     "timestamp": 1680068447297,
     "user": {
      "displayName": "AIML Program",
      "userId": "12349933480812372345"
     },
     "user_tz": -330
    },
    "id": "xVxcCwAXXhaz",
    "outputId": "db70eb2a-2df5-4543-8308-8bec5ad4a450"
   },
   "outputs": [
    {
     "name": "stdout",
     "output_type": "stream",
     "text": [
      "For n_clusters = 2, the silhouette score is 0.43432903166637143)\n",
      "For n_clusters = 3, the silhouette score is 0.503352243228426)\n",
      "For n_clusters = 4, the silhouette score is 0.3598205712337584)\n",
      "For n_clusters = 5, the silhouette score is 0.334066792552443)\n",
      "For n_clusters = 6, the silhouette score is 0.2509638798862458)\n",
      "For n_clusters = 7, the silhouette score is 0.24530243302799165)\n",
      "For n_clusters = 8, the silhouette score is 0.23730712152848668)\n",
      "For n_clusters = 9, the silhouette score is 0.22006783323733123)\n",
      "For n_clusters = 10, the silhouette score is 0.21932236041198705)\n",
      "For n_clusters = 11, the silhouette score is 0.21645166382972075)\n"
     ]
    }
   ],
   "source": [
    "kmeans_values=[]\n",
    "\n",
    "for cluster in range(2,12):\n",
    "    kmeans = KMeans(n_clusters=cluster, random_state=40).fit_predict(std_data)\n",
    "    sil_score = metrics.silhouette_score(std_data, kmeans, metric='euclidean')\n",
    "    print(\"For n_clusters = {}, the silhouette score is {})\".format(cluster, sil_score))\n",
    "    kmeans_values.append((cluster,sil_score))"
   ]
  },
  {
   "cell_type": "markdown",
   "metadata": {
    "id": "o4dtfZZPXhaz"
   },
   "source": [
    "Again with silhouette analysis we can clearly observe that silhouette score is high when we have 3 clusters."
   ]
  },
  {
   "cell_type": "markdown",
   "metadata": {
    "id": "UFPYMdUa1rnR"
   },
   "source": [
    "***Let's build the model with K=3 based on the Elbow Curve and Silhouttee Score.***"
   ]
  },
  {
   "cell_type": "code",
   "execution_count": 35,
   "metadata": {
    "executionInfo": {
     "elapsed": 4,
     "status": "ok",
     "timestamp": 1680068447993,
     "user": {
      "displayName": "AIML Program",
      "userId": "12349933480812372345"
     },
     "user_tz": -330
    },
    "id": "7g896f23Xha0"
   },
   "outputs": [],
   "source": [
    "kmeans = KMeans(n_clusters = 3, init = 'k-means++', max_iter = 300, random_state = 42)"
   ]
  },
  {
   "cell_type": "code",
   "execution_count": 36,
   "metadata": {
    "colab": {
     "base_uri": "https://localhost:8080/"
    },
    "executionInfo": {
     "elapsed": 1018,
     "status": "ok",
     "timestamp": 1680068449443,
     "user": {
      "displayName": "AIML Program",
      "userId": "12349933480812372345"
     },
     "user_tz": -330
    },
    "id": "9dU4zgSUXha0",
    "outputId": "1341080b-9174-495c-9c08-8fc310f024e0"
   },
   "outputs": [
    {
     "data": {
      "text/plain": [
       "array([1, 0, 1, 1, 2, 0, 2, 0, 0, 0, 0, 0, 0, 0, 0, 0, 0, 0, 0, 0, 0, 0,\n",
       "       0, 0, 0, 0, 0, 0, 0, 0, 0, 0, 0, 0, 0, 0, 0, 0, 0, 0, 0, 0, 0, 0,\n",
       "       0, 0, 0, 0, 0, 0, 0, 0, 0, 0, 0, 0, 0, 0, 0, 0, 0, 0, 0, 0, 0, 0,\n",
       "       0, 0, 0, 0, 0, 0, 0, 0, 0, 0, 0, 0, 0, 0, 0, 0, 0, 0, 0, 0, 0, 0,\n",
       "       0, 0, 0, 0, 0, 0, 0, 0, 0, 0, 0, 0, 0, 0, 0, 0, 0, 0, 0, 0, 0, 0,\n",
       "       0, 0, 0, 0, 0, 0, 0, 0, 0, 0, 0, 0, 0, 0, 0, 0, 0, 0, 0, 0, 0, 0,\n",
       "       0, 0, 0, 0, 0, 0, 0, 0, 0, 0, 0, 0, 0, 0, 0, 0, 0, 0, 0, 0, 0, 0,\n",
       "       0, 0, 0, 0, 0, 0, 0, 0, 0, 0, 0, 0, 0, 0, 0, 0, 0, 0, 0, 0, 0, 0,\n",
       "       0, 0, 0, 0, 0, 0, 0, 0, 0, 0, 0, 0, 0, 0, 0, 0, 0, 0, 0, 0, 0, 0,\n",
       "       0, 0, 0, 0, 0, 0, 0, 0, 0, 0, 0, 0, 0, 0, 0, 0, 0, 0, 0, 0, 0, 0,\n",
       "       0, 0, 0, 0, 0, 0, 0, 0, 1, 1, 1, 1, 1, 1, 1, 1, 1, 1, 1, 1, 1, 1,\n",
       "       1, 1, 1, 1, 1, 1, 1, 1, 1, 1, 1, 1, 1, 1, 1, 1, 1, 1, 1, 1, 1, 1,\n",
       "       1, 1, 1, 1, 1, 1, 1, 1, 1, 1, 1, 1, 1, 1, 1, 1, 1, 1, 1, 1, 1, 1,\n",
       "       1, 1, 1, 1, 1, 1, 1, 1, 1, 1, 1, 1, 1, 1, 1, 1, 1, 1, 1, 1, 1, 1,\n",
       "       1, 1, 1, 1, 1, 0, 1, 1, 1, 1, 1, 1, 1, 1, 1, 1, 1, 1, 1, 1, 1, 1,\n",
       "       1, 1, 1, 1, 1, 1, 1, 1, 1, 1, 1, 1, 1, 1, 1, 1, 1, 1, 1, 1, 1, 1,\n",
       "       1, 1, 1, 1, 1, 1, 1, 1, 1, 1, 1, 1, 1, 1, 1, 1, 1, 1, 1, 1, 1, 1,\n",
       "       1, 1, 1, 1, 1, 1, 1, 1, 1, 1, 1, 1, 1, 1, 1, 1, 1, 1, 1, 1, 1, 1,\n",
       "       1, 1, 1, 1, 1, 1, 1, 1, 1, 1, 1, 1, 1, 1, 1, 1, 1, 1, 1, 1, 1, 1,\n",
       "       1, 1, 1, 1, 1, 1, 1, 1, 1, 1, 1, 1, 1, 1, 1, 1, 1, 1, 1, 1, 1, 1,\n",
       "       1, 1, 1, 1, 1, 1, 1, 1, 1, 1, 1, 1, 1, 1, 1, 1, 1, 1, 1, 1, 1, 1,\n",
       "       1, 1, 1, 1, 1, 1, 1, 1, 1, 1, 1, 1, 1, 1, 1, 1, 1, 1, 1, 1, 1, 1,\n",
       "       1, 1, 1, 1, 1, 1, 1, 1, 1, 1, 1, 1, 1, 1, 1, 1, 1, 1, 1, 1, 1, 1,\n",
       "       1, 1, 1, 1, 1, 1, 1, 1, 1, 1, 1, 1, 1, 1, 1, 1, 1, 1, 1, 1, 1, 1,\n",
       "       1, 1, 1, 1, 1, 1, 1, 1, 1, 1, 1, 1, 1, 1, 1, 1, 1, 1, 1, 1, 1, 1,\n",
       "       1, 1, 1, 1, 1, 1, 1, 1, 1, 1, 1, 1, 1, 1, 1, 1, 1, 1, 1, 1, 1, 1,\n",
       "       1, 1, 1, 1, 1, 1, 1, 1, 1, 1, 1, 1, 1, 1, 1, 1, 1, 1, 1, 1, 1, 1,\n",
       "       1, 1, 1, 1, 1, 1, 1, 1, 1, 1, 1, 1, 1, 1, 2, 2, 2, 2, 2, 2, 2, 2,\n",
       "       2, 2, 2, 2, 2, 2, 2, 2, 2, 2, 2, 2, 2, 2, 2, 2, 2, 2, 2, 2, 2, 2])"
      ]
     },
     "execution_count": 36,
     "metadata": {},
     "output_type": "execute_result"
    }
   ],
   "source": [
    "y = kmeans.fit_predict(std_data)\n",
    "y"
   ]
  },
  {
   "cell_type": "code",
   "execution_count": 37,
   "metadata": {
    "colab": {
     "base_uri": "https://localhost:8080/"
    },
    "executionInfo": {
     "elapsed": 12,
     "status": "ok",
     "timestamp": 1680068449444,
     "user": {
      "displayName": "AIML Program",
      "userId": "12349933480812372345"
     },
     "user_tz": -330
    },
    "id": "ZFKH6ADy2Tsy",
    "outputId": "2679fad0-504d-4ad6-f699-14a95c38413b"
   },
   "outputs": [
    {
     "data": {
      "text/plain": [
       "array([[-0.62266602, -1.04459226, -0.93569765,  0.46570481,  1.11588018],\n",
       "       [ 0.10798971,  0.44450268,  0.64296612, -0.54690852, -0.58170737],\n",
       "       [ 3.069535  ,  2.00589513, -1.12552447,  3.26878676, -0.8670295 ]])"
      ]
     },
     "execution_count": 37,
     "metadata": {},
     "output_type": "execute_result"
    }
   ],
   "source": [
    "kmeans.cluster_centers_"
   ]
  },
  {
   "cell_type": "markdown",
   "metadata": {
    "id": "z-1t_h742h2h"
   },
   "source": [
    "#### **Cluster Profiling with K-Means Clustering Method**"
   ]
  },
  {
   "cell_type": "code",
   "execution_count": 38,
   "metadata": {
    "executionInfo": {
     "elapsed": 913,
     "status": "ok",
     "timestamp": 1680068450352,
     "user": {
      "displayName": "AIML Program",
      "userId": "12349933480812372345"
     },
     "user_tz": -330
    },
    "id": "mU_SvhFD2uT-"
   },
   "outputs": [],
   "source": [
    "data['K_means_segments'] = kmeans.labels_"
   ]
  },
  {
   "cell_type": "code",
   "execution_count": 39,
   "metadata": {
    "colab": {
     "base_uri": "https://localhost:8080/"
    },
    "executionInfo": {
     "elapsed": 7,
     "status": "ok",
     "timestamp": 1680068450353,
     "user": {
      "displayName": "AIML Program",
      "userId": "12349933480812372345"
     },
     "user_tz": -330
    },
    "id": "2t4PRuE7y0qQ",
    "outputId": "cdf90611-5d9f-453c-b8ce-ea0d2bb17478"
   },
   "outputs": [
    {
     "data": {
      "text/plain": [
       "1    382\n",
       "0    224\n",
       "2     32\n",
       "Name: K_means_segments, dtype: int64"
      ]
     },
     "execution_count": 39,
     "metadata": {},
     "output_type": "execute_result"
    }
   ],
   "source": [
    "data['K_means_segments'].value_counts()"
   ]
  },
  {
   "cell_type": "code",
   "execution_count": 41,
   "metadata": {},
   "outputs": [
    {
     "data": {
      "text/html": [
       "<div>\n",
       "<style scoped>\n",
       "    .dataframe tbody tr th:only-of-type {\n",
       "        vertical-align: middle;\n",
       "    }\n",
       "\n",
       "    .dataframe tbody tr th {\n",
       "        vertical-align: top;\n",
       "    }\n",
       "\n",
       "    .dataframe thead th {\n",
       "        text-align: right;\n",
       "    }\n",
       "</style>\n",
       "<table border=\"1\" class=\"dataframe\">\n",
       "  <thead>\n",
       "    <tr style=\"text-align: right;\">\n",
       "      <th></th>\n",
       "      <th>Avg_Credit_Limit</th>\n",
       "      <th>Total_Credit_Cards</th>\n",
       "      <th>Total_visits_bank</th>\n",
       "      <th>Total_visits_online</th>\n",
       "      <th>Total_calls_made</th>\n",
       "      <th>K_means_segments</th>\n",
       "    </tr>\n",
       "  </thead>\n",
       "  <tbody>\n",
       "    <tr>\n",
       "      <th>0</th>\n",
       "      <td>100000</td>\n",
       "      <td>2</td>\n",
       "      <td>1</td>\n",
       "      <td>1</td>\n",
       "      <td>0</td>\n",
       "      <td>1</td>\n",
       "    </tr>\n",
       "    <tr>\n",
       "      <th>1</th>\n",
       "      <td>50000</td>\n",
       "      <td>3</td>\n",
       "      <td>0</td>\n",
       "      <td>10</td>\n",
       "      <td>9</td>\n",
       "      <td>0</td>\n",
       "    </tr>\n",
       "    <tr>\n",
       "      <th>2</th>\n",
       "      <td>50000</td>\n",
       "      <td>7</td>\n",
       "      <td>1</td>\n",
       "      <td>3</td>\n",
       "      <td>4</td>\n",
       "      <td>1</td>\n",
       "    </tr>\n",
       "    <tr>\n",
       "      <th>3</th>\n",
       "      <td>30000</td>\n",
       "      <td>5</td>\n",
       "      <td>1</td>\n",
       "      <td>1</td>\n",
       "      <td>4</td>\n",
       "      <td>1</td>\n",
       "    </tr>\n",
       "    <tr>\n",
       "      <th>4</th>\n",
       "      <td>100000</td>\n",
       "      <td>6</td>\n",
       "      <td>0</td>\n",
       "      <td>12</td>\n",
       "      <td>3</td>\n",
       "      <td>2</td>\n",
       "    </tr>\n",
       "  </tbody>\n",
       "</table>\n",
       "</div>"
      ],
      "text/plain": [
       "   Avg_Credit_Limit  Total_Credit_Cards  Total_visits_bank  \\\n",
       "0            100000                   2                  1   \n",
       "1             50000                   3                  0   \n",
       "2             50000                   7                  1   \n",
       "3             30000                   5                  1   \n",
       "4            100000                   6                  0   \n",
       "\n",
       "   Total_visits_online  Total_calls_made  K_means_segments  \n",
       "0                    1                 0                 1  \n",
       "1                   10                 9                 0  \n",
       "2                    3                 4                 1  \n",
       "3                    1                 4                 1  \n",
       "4                   12                 3                 2  "
      ]
     },
     "execution_count": 41,
     "metadata": {},
     "output_type": "execute_result"
    }
   ],
   "source": [
    "data.head()"
   ]
  },
  {
   "cell_type": "code",
   "execution_count": 42,
   "metadata": {
    "colab": {
     "base_uri": "https://localhost:8080/",
     "height": 174
    },
    "executionInfo": {
     "elapsed": 7,
     "status": "ok",
     "timestamp": 1680068450933,
     "user": {
      "displayName": "AIML Program",
      "userId": "12349933480812372345"
     },
     "user_tz": -330
    },
    "id": "IVnQ4Hcg2im-",
    "outputId": "d5d2324d-f44f-4eac-c4b6-180fe171f56e"
   },
   "outputs": [
    {
     "data": {
      "text/html": [
       "<div>\n",
       "<style scoped>\n",
       "    .dataframe tbody tr th:only-of-type {\n",
       "        vertical-align: middle;\n",
       "    }\n",
       "\n",
       "    .dataframe tbody tr th {\n",
       "        vertical-align: top;\n",
       "    }\n",
       "\n",
       "    .dataframe thead th {\n",
       "        text-align: right;\n",
       "    }\n",
       "</style>\n",
       "<table border=\"1\" class=\"dataframe\">\n",
       "  <thead>\n",
       "    <tr style=\"text-align: right;\">\n",
       "      <th></th>\n",
       "      <th>Avg_Credit_Limit</th>\n",
       "      <th>Total_Credit_Cards</th>\n",
       "      <th>Total_visits_bank</th>\n",
       "      <th>Total_visits_online</th>\n",
       "      <th>Total_calls_made</th>\n",
       "      <th>No. of Customers</th>\n",
       "    </tr>\n",
       "    <tr>\n",
       "      <th>K_means_segments</th>\n",
       "      <th></th>\n",
       "      <th></th>\n",
       "      <th></th>\n",
       "      <th></th>\n",
       "      <th></th>\n",
       "      <th></th>\n",
       "    </tr>\n",
       "  </thead>\n",
       "  <tbody>\n",
       "    <tr>\n",
       "      <th>0</th>\n",
       "      <td>12174.107143</td>\n",
       "      <td>2.410714</td>\n",
       "      <td>0.933036</td>\n",
       "      <td>3.553571</td>\n",
       "      <td>6.870536</td>\n",
       "      <td>224</td>\n",
       "    </tr>\n",
       "    <tr>\n",
       "      <th>1</th>\n",
       "      <td>33604.712042</td>\n",
       "      <td>5.505236</td>\n",
       "      <td>3.494764</td>\n",
       "      <td>0.976440</td>\n",
       "      <td>2.005236</td>\n",
       "      <td>382</td>\n",
       "    </tr>\n",
       "    <tr>\n",
       "      <th>2</th>\n",
       "      <td>120468.750000</td>\n",
       "      <td>8.750000</td>\n",
       "      <td>0.625000</td>\n",
       "      <td>10.687500</td>\n",
       "      <td>1.187500</td>\n",
       "      <td>32</td>\n",
       "    </tr>\n",
       "  </tbody>\n",
       "</table>\n",
       "</div>"
      ],
      "text/plain": [
       "                  Avg_Credit_Limit  Total_Credit_Cards  Total_visits_bank  \\\n",
       "K_means_segments                                                            \n",
       "0                     12174.107143            2.410714           0.933036   \n",
       "1                     33604.712042            5.505236           3.494764   \n",
       "2                    120468.750000            8.750000           0.625000   \n",
       "\n",
       "                  Total_visits_online  Total_calls_made  No. of Customers  \n",
       "K_means_segments                                                           \n",
       "0                            3.553571          6.870536               224  \n",
       "1                            0.976440          2.005236               382  \n",
       "2                           10.687500          1.187500                32  "
      ]
     },
     "execution_count": 42,
     "metadata": {},
     "output_type": "execute_result"
    }
   ],
   "source": [
    "data['K_means_segments'] = kmeans.labels_\n",
    "cluster_profile = data.groupby('K_means_segments').mean()\n",
    "cluster_profile['No. of Customers'] = data.groupby('K_means_segments')['Avg_Credit_Limit'].count().values\n",
    "cluster_profile"
   ]
  },
  {
   "cell_type": "markdown",
   "metadata": {
    "id": "TwcEaUj-hmL5"
   },
   "source": [
    "### **Insights**\n",
    "\n",
    "- *If we look at the data we see that there is a group which prefers online interactions with their bank, they have a much higher credit limit and also have more credit cards (cluster - 2), but this group has minimum no. of customers (32).*\n",
    "- *The customers who prefer in-person interactions tend to have the mid-range of credit cards and credit limit (cluster - 1) and this group has highest number of customers (382).*\n",
    "- *The customers who contact via phonecall are in another segment, who have lowest credit limit and number of cards (cluster - 0).*"
   ]
  },
  {
   "cell_type": "markdown",
   "metadata": {
    "id": "pjQ1FgLTXha1"
   },
   "source": [
    "## Hierarchical Clustering"
   ]
  },
  {
   "cell_type": "code",
   "execution_count": 44,
   "metadata": {
    "executionInfo": {
     "elapsed": 923,
     "status": "ok",
     "timestamp": 1680068457520,
     "user": {
      "displayName": "AIML Program",
      "userId": "12349933480812372345"
     },
     "user_tz": -330
    },
    "id": "4HFWFGd8Xha1"
   },
   "outputs": [],
   "source": [
    "siliuette_list_hierarchical = []\n",
    "\n",
    "for cluster in range(2,15,1):\n",
    "    for linkage_method in ['single','average', 'complete', 'ward']:\n",
    "        agglomerative = AgglomerativeClustering(linkage=linkage_method, metric = 'euclidean', n_clusters=cluster).fit_predict(std_data)\n",
    "        sil_score = metrics.silhouette_score(std_data, agglomerative, metric='euclidean')\n",
    "        siliuette_list_hierarchical.append((cluster, sil_score, linkage_method, len(set(agglomerative)) ) )\n",
    "        \n",
    "df_hierarchical = pd.DataFrame(siliuette_list_hierarchical, columns=['clusters', 'sil_score','linkage_method', 'number_of_clusters'])"
   ]
  },
  {
   "cell_type": "code",
   "execution_count": 45,
   "metadata": {
    "colab": {
     "base_uri": "https://localhost:8080/",
     "height": 1000
    },
    "executionInfo": {
     "elapsed": 11,
     "status": "ok",
     "timestamp": 1680068459278,
     "user": {
      "displayName": "AIML Program",
      "userId": "12349933480812372345"
     },
     "user_tz": -330
    },
    "id": "eza9_nnDXha2",
    "outputId": "11502762-af1d-496d-eb89-845843d8e499"
   },
   "outputs": [
    {
     "data": {
      "text/html": [
       "<div>\n",
       "<style scoped>\n",
       "    .dataframe tbody tr th:only-of-type {\n",
       "        vertical-align: middle;\n",
       "    }\n",
       "\n",
       "    .dataframe tbody tr th {\n",
       "        vertical-align: top;\n",
       "    }\n",
       "\n",
       "    .dataframe thead th {\n",
       "        text-align: right;\n",
       "    }\n",
       "</style>\n",
       "<table border=\"1\" class=\"dataframe\">\n",
       "  <thead>\n",
       "    <tr style=\"text-align: right;\">\n",
       "      <th></th>\n",
       "      <th>clusters</th>\n",
       "      <th>sil_score</th>\n",
       "      <th>linkage_method</th>\n",
       "      <th>number_of_clusters</th>\n",
       "    </tr>\n",
       "  </thead>\n",
       "  <tbody>\n",
       "    <tr>\n",
       "      <th>2</th>\n",
       "      <td>2</td>\n",
       "      <td>0.573389</td>\n",
       "      <td>complete</td>\n",
       "      <td>2</td>\n",
       "    </tr>\n",
       "    <tr>\n",
       "      <th>1</th>\n",
       "      <td>2</td>\n",
       "      <td>0.573389</td>\n",
       "      <td>average</td>\n",
       "      <td>2</td>\n",
       "    </tr>\n",
       "    <tr>\n",
       "      <th>7</th>\n",
       "      <td>3</td>\n",
       "      <td>0.503432</td>\n",
       "      <td>ward</td>\n",
       "      <td>3</td>\n",
       "    </tr>\n",
       "    <tr>\n",
       "      <th>6</th>\n",
       "      <td>3</td>\n",
       "      <td>0.501480</td>\n",
       "      <td>complete</td>\n",
       "      <td>3</td>\n",
       "    </tr>\n",
       "    <tr>\n",
       "      <th>9</th>\n",
       "      <td>4</td>\n",
       "      <td>0.468561</td>\n",
       "      <td>average</td>\n",
       "      <td>4</td>\n",
       "    </tr>\n",
       "    <tr>\n",
       "      <th>13</th>\n",
       "      <td>5</td>\n",
       "      <td>0.443698</td>\n",
       "      <td>average</td>\n",
       "      <td>5</td>\n",
       "    </tr>\n",
       "    <tr>\n",
       "      <th>3</th>\n",
       "      <td>2</td>\n",
       "      <td>0.434297</td>\n",
       "      <td>ward</td>\n",
       "      <td>2</td>\n",
       "    </tr>\n",
       "    <tr>\n",
       "      <th>17</th>\n",
       "      <td>6</td>\n",
       "      <td>0.432723</td>\n",
       "      <td>average</td>\n",
       "      <td>6</td>\n",
       "    </tr>\n",
       "    <tr>\n",
       "      <th>4</th>\n",
       "      <td>3</td>\n",
       "      <td>0.395545</td>\n",
       "      <td>single</td>\n",
       "      <td>3</td>\n",
       "    </tr>\n",
       "    <tr>\n",
       "      <th>11</th>\n",
       "      <td>4</td>\n",
       "      <td>0.339481</td>\n",
       "      <td>ward</td>\n",
       "      <td>4</td>\n",
       "    </tr>\n",
       "    <tr>\n",
       "      <th>0</th>\n",
       "      <td>2</td>\n",
       "      <td>0.325931</td>\n",
       "      <td>single</td>\n",
       "      <td>2</td>\n",
       "    </tr>\n",
       "    <tr>\n",
       "      <th>5</th>\n",
       "      <td>3</td>\n",
       "      <td>0.323963</td>\n",
       "      <td>average</td>\n",
       "      <td>3</td>\n",
       "    </tr>\n",
       "    <tr>\n",
       "      <th>19</th>\n",
       "      <td>6</td>\n",
       "      <td>0.312027</td>\n",
       "      <td>ward</td>\n",
       "      <td>6</td>\n",
       "    </tr>\n",
       "    <tr>\n",
       "      <th>15</th>\n",
       "      <td>5</td>\n",
       "      <td>0.309323</td>\n",
       "      <td>ward</td>\n",
       "      <td>5</td>\n",
       "    </tr>\n",
       "    <tr>\n",
       "      <th>10</th>\n",
       "      <td>4</td>\n",
       "      <td>0.303485</td>\n",
       "      <td>complete</td>\n",
       "      <td>4</td>\n",
       "    </tr>\n",
       "    <tr>\n",
       "      <th>21</th>\n",
       "      <td>7</td>\n",
       "      <td>0.300661</td>\n",
       "      <td>average</td>\n",
       "      <td>7</td>\n",
       "    </tr>\n",
       "    <tr>\n",
       "      <th>25</th>\n",
       "      <td>8</td>\n",
       "      <td>0.300391</td>\n",
       "      <td>average</td>\n",
       "      <td>8</td>\n",
       "    </tr>\n",
       "    <tr>\n",
       "      <th>14</th>\n",
       "      <td>5</td>\n",
       "      <td>0.283976</td>\n",
       "      <td>complete</td>\n",
       "      <td>5</td>\n",
       "    </tr>\n",
       "    <tr>\n",
       "      <th>18</th>\n",
       "      <td>6</td>\n",
       "      <td>0.268029</td>\n",
       "      <td>complete</td>\n",
       "      <td>6</td>\n",
       "    </tr>\n",
       "    <tr>\n",
       "      <th>22</th>\n",
       "      <td>7</td>\n",
       "      <td>0.255518</td>\n",
       "      <td>complete</td>\n",
       "      <td>7</td>\n",
       "    </tr>\n",
       "    <tr>\n",
       "      <th>8</th>\n",
       "      <td>4</td>\n",
       "      <td>0.248096</td>\n",
       "      <td>single</td>\n",
       "      <td>4</td>\n",
       "    </tr>\n",
       "    <tr>\n",
       "      <th>29</th>\n",
       "      <td>9</td>\n",
       "      <td>0.242196</td>\n",
       "      <td>average</td>\n",
       "      <td>9</td>\n",
       "    </tr>\n",
       "    <tr>\n",
       "      <th>32</th>\n",
       "      <td>10</td>\n",
       "      <td>0.232402</td>\n",
       "      <td>single</td>\n",
       "      <td>10</td>\n",
       "    </tr>\n",
       "    <tr>\n",
       "      <th>36</th>\n",
       "      <td>11</td>\n",
       "      <td>0.231966</td>\n",
       "      <td>single</td>\n",
       "      <td>11</td>\n",
       "    </tr>\n",
       "    <tr>\n",
       "      <th>44</th>\n",
       "      <td>13</td>\n",
       "      <td>0.231954</td>\n",
       "      <td>single</td>\n",
       "      <td>13</td>\n",
       "    </tr>\n",
       "    <tr>\n",
       "      <th>40</th>\n",
       "      <td>12</td>\n",
       "      <td>0.231149</td>\n",
       "      <td>single</td>\n",
       "      <td>12</td>\n",
       "    </tr>\n",
       "    <tr>\n",
       "      <th>48</th>\n",
       "      <td>14</td>\n",
       "      <td>0.231102</td>\n",
       "      <td>single</td>\n",
       "      <td>14</td>\n",
       "    </tr>\n",
       "    <tr>\n",
       "      <th>20</th>\n",
       "      <td>7</td>\n",
       "      <td>0.230633</td>\n",
       "      <td>single</td>\n",
       "      <td>7</td>\n",
       "    </tr>\n",
       "    <tr>\n",
       "      <th>28</th>\n",
       "      <td>9</td>\n",
       "      <td>0.229931</td>\n",
       "      <td>single</td>\n",
       "      <td>9</td>\n",
       "    </tr>\n",
       "    <tr>\n",
       "      <th>38</th>\n",
       "      <td>11</td>\n",
       "      <td>0.229229</td>\n",
       "      <td>complete</td>\n",
       "      <td>11</td>\n",
       "    </tr>\n",
       "    <tr>\n",
       "      <th>16</th>\n",
       "      <td>6</td>\n",
       "      <td>0.228765</td>\n",
       "      <td>single</td>\n",
       "      <td>6</td>\n",
       "    </tr>\n",
       "    <tr>\n",
       "      <th>24</th>\n",
       "      <td>8</td>\n",
       "      <td>0.228465</td>\n",
       "      <td>single</td>\n",
       "      <td>8</td>\n",
       "    </tr>\n",
       "    <tr>\n",
       "      <th>34</th>\n",
       "      <td>10</td>\n",
       "      <td>0.225652</td>\n",
       "      <td>complete</td>\n",
       "      <td>10</td>\n",
       "    </tr>\n",
       "    <tr>\n",
       "      <th>30</th>\n",
       "      <td>9</td>\n",
       "      <td>0.225624</td>\n",
       "      <td>complete</td>\n",
       "      <td>9</td>\n",
       "    </tr>\n",
       "    <tr>\n",
       "      <th>42</th>\n",
       "      <td>12</td>\n",
       "      <td>0.225156</td>\n",
       "      <td>complete</td>\n",
       "      <td>12</td>\n",
       "    </tr>\n",
       "    <tr>\n",
       "      <th>45</th>\n",
       "      <td>13</td>\n",
       "      <td>0.224052</td>\n",
       "      <td>average</td>\n",
       "      <td>13</td>\n",
       "    </tr>\n",
       "    <tr>\n",
       "      <th>12</th>\n",
       "      <td>5</td>\n",
       "      <td>0.223978</td>\n",
       "      <td>single</td>\n",
       "      <td>5</td>\n",
       "    </tr>\n",
       "    <tr>\n",
       "      <th>33</th>\n",
       "      <td>10</td>\n",
       "      <td>0.223552</td>\n",
       "      <td>average</td>\n",
       "      <td>10</td>\n",
       "    </tr>\n",
       "    <tr>\n",
       "      <th>41</th>\n",
       "      <td>12</td>\n",
       "      <td>0.223520</td>\n",
       "      <td>average</td>\n",
       "      <td>12</td>\n",
       "    </tr>\n",
       "    <tr>\n",
       "      <th>37</th>\n",
       "      <td>11</td>\n",
       "      <td>0.222227</td>\n",
       "      <td>average</td>\n",
       "      <td>11</td>\n",
       "    </tr>\n",
       "    <tr>\n",
       "      <th>49</th>\n",
       "      <td>14</td>\n",
       "      <td>0.221289</td>\n",
       "      <td>average</td>\n",
       "      <td>14</td>\n",
       "    </tr>\n",
       "    <tr>\n",
       "      <th>27</th>\n",
       "      <td>8</td>\n",
       "      <td>0.216711</td>\n",
       "      <td>ward</td>\n",
       "      <td>8</td>\n",
       "    </tr>\n",
       "    <tr>\n",
       "      <th>23</th>\n",
       "      <td>7</td>\n",
       "      <td>0.211764</td>\n",
       "      <td>ward</td>\n",
       "      <td>7</td>\n",
       "    </tr>\n",
       "    <tr>\n",
       "      <th>31</th>\n",
       "      <td>9</td>\n",
       "      <td>0.204585</td>\n",
       "      <td>ward</td>\n",
       "      <td>9</td>\n",
       "    </tr>\n",
       "    <tr>\n",
       "      <th>26</th>\n",
       "      <td>8</td>\n",
       "      <td>0.200978</td>\n",
       "      <td>complete</td>\n",
       "      <td>8</td>\n",
       "    </tr>\n",
       "    <tr>\n",
       "      <th>35</th>\n",
       "      <td>10</td>\n",
       "      <td>0.189641</td>\n",
       "      <td>ward</td>\n",
       "      <td>10</td>\n",
       "    </tr>\n",
       "    <tr>\n",
       "      <th>39</th>\n",
       "      <td>11</td>\n",
       "      <td>0.187884</td>\n",
       "      <td>ward</td>\n",
       "      <td>11</td>\n",
       "    </tr>\n",
       "    <tr>\n",
       "      <th>47</th>\n",
       "      <td>13</td>\n",
       "      <td>0.183824</td>\n",
       "      <td>ward</td>\n",
       "      <td>13</td>\n",
       "    </tr>\n",
       "    <tr>\n",
       "      <th>50</th>\n",
       "      <td>14</td>\n",
       "      <td>0.179009</td>\n",
       "      <td>complete</td>\n",
       "      <td>14</td>\n",
       "    </tr>\n",
       "    <tr>\n",
       "      <th>43</th>\n",
       "      <td>12</td>\n",
       "      <td>0.177964</td>\n",
       "      <td>ward</td>\n",
       "      <td>12</td>\n",
       "    </tr>\n",
       "    <tr>\n",
       "      <th>46</th>\n",
       "      <td>13</td>\n",
       "      <td>0.177368</td>\n",
       "      <td>complete</td>\n",
       "      <td>13</td>\n",
       "    </tr>\n",
       "    <tr>\n",
       "      <th>51</th>\n",
       "      <td>14</td>\n",
       "      <td>0.176127</td>\n",
       "      <td>ward</td>\n",
       "      <td>14</td>\n",
       "    </tr>\n",
       "  </tbody>\n",
       "</table>\n",
       "</div>"
      ],
      "text/plain": [
       "    clusters  sil_score linkage_method  number_of_clusters\n",
       "2          2   0.573389       complete                   2\n",
       "1          2   0.573389        average                   2\n",
       "7          3   0.503432           ward                   3\n",
       "6          3   0.501480       complete                   3\n",
       "9          4   0.468561        average                   4\n",
       "13         5   0.443698        average                   5\n",
       "3          2   0.434297           ward                   2\n",
       "17         6   0.432723        average                   6\n",
       "4          3   0.395545         single                   3\n",
       "11         4   0.339481           ward                   4\n",
       "0          2   0.325931         single                   2\n",
       "5          3   0.323963        average                   3\n",
       "19         6   0.312027           ward                   6\n",
       "15         5   0.309323           ward                   5\n",
       "10         4   0.303485       complete                   4\n",
       "21         7   0.300661        average                   7\n",
       "25         8   0.300391        average                   8\n",
       "14         5   0.283976       complete                   5\n",
       "18         6   0.268029       complete                   6\n",
       "22         7   0.255518       complete                   7\n",
       "8          4   0.248096         single                   4\n",
       "29         9   0.242196        average                   9\n",
       "32        10   0.232402         single                  10\n",
       "36        11   0.231966         single                  11\n",
       "44        13   0.231954         single                  13\n",
       "40        12   0.231149         single                  12\n",
       "48        14   0.231102         single                  14\n",
       "20         7   0.230633         single                   7\n",
       "28         9   0.229931         single                   9\n",
       "38        11   0.229229       complete                  11\n",
       "16         6   0.228765         single                   6\n",
       "24         8   0.228465         single                   8\n",
       "34        10   0.225652       complete                  10\n",
       "30         9   0.225624       complete                   9\n",
       "42        12   0.225156       complete                  12\n",
       "45        13   0.224052        average                  13\n",
       "12         5   0.223978         single                   5\n",
       "33        10   0.223552        average                  10\n",
       "41        12   0.223520        average                  12\n",
       "37        11   0.222227        average                  11\n",
       "49        14   0.221289        average                  14\n",
       "27         8   0.216711           ward                   8\n",
       "23         7   0.211764           ward                   7\n",
       "31         9   0.204585           ward                   9\n",
       "26         8   0.200978       complete                   8\n",
       "35        10   0.189641           ward                  10\n",
       "39        11   0.187884           ward                  11\n",
       "47        13   0.183824           ward                  13\n",
       "50        14   0.179009       complete                  14\n",
       "43        12   0.177964           ward                  12\n",
       "46        13   0.177368       complete                  13\n",
       "51        14   0.176127           ward                  14"
      ]
     },
     "execution_count": 45,
     "metadata": {},
     "output_type": "execute_result"
    }
   ],
   "source": [
    "df_hierarchical.sort_values('sil_score', ascending=False)"
   ]
  },
  {
   "cell_type": "markdown",
   "metadata": {
    "id": "vlD2bvti8wHP"
   },
   "source": [
    "***Let's build the model with K=2 based on the Silhouttee Score.***"
   ]
  },
  {
   "cell_type": "code",
   "execution_count": 46,
   "metadata": {
    "executionInfo": {
     "elapsed": 1540,
     "status": "ok",
     "timestamp": 1680068467247,
     "user": {
      "displayName": "AIML Program",
      "userId": "12349933480812372345"
     },
     "user_tz": -330
    },
    "id": "Wo5l6Sg3Xha2"
   },
   "outputs": [],
   "source": [
    "hierarchical_= AgglomerativeClustering(linkage='complete', affinity='euclidean', n_clusters=2).fit_predict(std_data)"
   ]
  },
  {
   "cell_type": "markdown",
   "metadata": {
    "id": "cf8G91nG9IYp"
   },
   "source": [
    "### **Cluster Profiling based on Agglomerative Clustering**"
   ]
  },
  {
   "cell_type": "code",
   "execution_count": 47,
   "metadata": {
    "colab": {
     "base_uri": "https://localhost:8080/",
     "height": 143
    },
    "executionInfo": {
     "elapsed": 8,
     "status": "ok",
     "timestamp": 1680068472288,
     "user": {
      "displayName": "AIML Program",
      "userId": "12349933480812372345"
     },
     "user_tz": -330
    },
    "id": "kMdi2XO0Xha3",
    "outputId": "1c2a81bc-14c4-45da-87bf-9fefb3ef2cb2"
   },
   "outputs": [
    {
     "data": {
      "text/html": [
       "<div>\n",
       "<style scoped>\n",
       "    .dataframe tbody tr th:only-of-type {\n",
       "        vertical-align: middle;\n",
       "    }\n",
       "\n",
       "    .dataframe tbody tr th {\n",
       "        vertical-align: top;\n",
       "    }\n",
       "\n",
       "    .dataframe thead th {\n",
       "        text-align: right;\n",
       "    }\n",
       "</style>\n",
       "<table border=\"1\" class=\"dataframe\">\n",
       "  <thead>\n",
       "    <tr style=\"text-align: right;\">\n",
       "      <th></th>\n",
       "      <th>Avg_Credit_Limit</th>\n",
       "      <th>Total_Credit_Cards</th>\n",
       "      <th>Total_visits_bank</th>\n",
       "      <th>Total_visits_online</th>\n",
       "      <th>Total_calls_made</th>\n",
       "      <th>No. of customers</th>\n",
       "    </tr>\n",
       "    <tr>\n",
       "      <th>Agglomerative_Segments</th>\n",
       "      <th></th>\n",
       "      <th></th>\n",
       "      <th></th>\n",
       "      <th></th>\n",
       "      <th></th>\n",
       "      <th></th>\n",
       "    </tr>\n",
       "  </thead>\n",
       "  <tbody>\n",
       "    <tr>\n",
       "      <th>0</th>\n",
       "      <td>25683.168317</td>\n",
       "      <td>4.361386</td>\n",
       "      <td>2.547855</td>\n",
       "      <td>1.929043</td>\n",
       "      <td>3.80363</td>\n",
       "      <td>606</td>\n",
       "    </tr>\n",
       "    <tr>\n",
       "      <th>1</th>\n",
       "      <td>120468.750000</td>\n",
       "      <td>8.750000</td>\n",
       "      <td>0.625000</td>\n",
       "      <td>10.687500</td>\n",
       "      <td>1.18750</td>\n",
       "      <td>32</td>\n",
       "    </tr>\n",
       "  </tbody>\n",
       "</table>\n",
       "</div>"
      ],
      "text/plain": [
       "                        Avg_Credit_Limit  Total_Credit_Cards  \\\n",
       "Agglomerative_Segments                                         \n",
       "0                           25683.168317            4.361386   \n",
       "1                          120468.750000            8.750000   \n",
       "\n",
       "                        Total_visits_bank  Total_visits_online  \\\n",
       "Agglomerative_Segments                                           \n",
       "0                                2.547855             1.929043   \n",
       "1                                0.625000            10.687500   \n",
       "\n",
       "                        Total_calls_made  No. of customers  \n",
       "Agglomerative_Segments                                      \n",
       "0                                3.80363               606  \n",
       "1                                1.18750                32  "
      ]
     },
     "execution_count": 47,
     "metadata": {},
     "output_type": "execute_result"
    }
   ],
   "source": [
    "df['Agglomerative_Segments'] = hierarchical_\n",
    "cluster_profile = df.groupby('Agglomerative_Segments').mean()\n",
    "cluster_profile['No. of customers'] = df.groupby('Agglomerative_Segments')['Avg_Credit_Limit'].count().values\n",
    "cluster_profile"
   ]
  },
  {
   "cell_type": "markdown",
   "metadata": {
    "id": "rRGZx_LOWfmU"
   },
   "source": [
    "### **Insights**\n",
    "\n",
    "- If we look at the data we see that there is a group which prefers online interactions with their bank, they have a much higher credit limit (~1,20,000K) and also have more credit cards (cluster - 1) and this group is having just 32 customers.\n",
    "- The customers who prefer in-person interactions tend to have the low-range of credit cards (~25,000K)and credit limit (cluster - 0) and this group has 606 customers.\n"
   ]
  },
  {
   "cell_type": "markdown",
   "metadata": {
    "id": "YgHjlqQQXha5"
   },
   "source": [
    "## Compare cluster K-means clusters and Hierarchical clusters - Perform cluster profiling - Derive Insights"
   ]
  },
  {
   "cell_type": "code",
   "execution_count": 48,
   "metadata": {
    "executionInfo": {
     "elapsed": 788,
     "status": "ok",
     "timestamp": 1680068617568,
     "user": {
      "displayName": "AIML Program",
      "userId": "12349933480812372345"
     },
     "user_tz": -330
    },
    "id": "NWpW7-bhXha5"
   },
   "outputs": [],
   "source": [
    "kmeans_      = KMeans(n_clusters=3, random_state=40).fit_predict(std_data)"
   ]
  },
  {
   "cell_type": "code",
   "execution_count": 49,
   "metadata": {
    "executionInfo": {
     "elapsed": 5,
     "status": "ok",
     "timestamp": 1680068618290,
     "user": {
      "displayName": "AIML Program",
      "userId": "12349933480812372345"
     },
     "user_tz": -330
    },
    "id": "c29b-hQbXha6"
   },
   "outputs": [],
   "source": [
    "hierarchical_= AgglomerativeClustering(linkage='complete', affinity='euclidean', n_clusters=2).fit_predict(std_data)"
   ]
  },
  {
   "cell_type": "code",
   "execution_count": 50,
   "metadata": {
    "executionInfo": {
     "elapsed": 803,
     "status": "ok",
     "timestamp": 1680068619912,
     "user": {
      "displayName": "AIML Program",
      "userId": "12349933480812372345"
     },
     "user_tz": -330
    },
    "id": "-wbmesMFXha6"
   },
   "outputs": [],
   "source": [
    "kmeansSilhouette_Score        = metrics.silhouette_score(std_data, kmeans_, metric='euclidean')\n",
    "\n",
    "Hierarchical_Silhouette_Score = metrics.silhouette_score(std_data, hierarchical_, metric='euclidean')"
   ]
  },
  {
   "cell_type": "code",
   "execution_count": 51,
   "metadata": {
    "colab": {
     "base_uri": "https://localhost:8080/",
     "height": 112
    },
    "executionInfo": {
     "elapsed": 4,
     "status": "ok",
     "timestamp": 1680068619912,
     "user": {
      "displayName": "AIML Program",
      "userId": "12349933480812372345"
     },
     "user_tz": -330
    },
    "id": "LBChjHO3Xha7",
    "outputId": "59b4497d-ba0a-4c5e-964b-7d333b9cc05d"
   },
   "outputs": [
    {
     "data": {
      "text/html": [
       "<div>\n",
       "<style scoped>\n",
       "    .dataframe tbody tr th:only-of-type {\n",
       "        vertical-align: middle;\n",
       "    }\n",
       "\n",
       "    .dataframe tbody tr th {\n",
       "        vertical-align: top;\n",
       "    }\n",
       "\n",
       "    .dataframe thead th {\n",
       "        text-align: right;\n",
       "    }\n",
       "</style>\n",
       "<table border=\"1\" class=\"dataframe\">\n",
       "  <thead>\n",
       "    <tr style=\"text-align: right;\">\n",
       "      <th></th>\n",
       "      <th>Clustering Method</th>\n",
       "      <th>Silhouette Score</th>\n",
       "    </tr>\n",
       "  </thead>\n",
       "  <tbody>\n",
       "    <tr>\n",
       "      <th>1</th>\n",
       "      <td>Hierarchical</td>\n",
       "      <td>0.573389</td>\n",
       "    </tr>\n",
       "    <tr>\n",
       "      <th>0</th>\n",
       "      <td>KMeans</td>\n",
       "      <td>0.503352</td>\n",
       "    </tr>\n",
       "  </tbody>\n",
       "</table>\n",
       "</div>"
      ],
      "text/plain": [
       "  Clustering Method  Silhouette Score\n",
       "1      Hierarchical          0.573389\n",
       "0            KMeans          0.503352"
      ]
     },
     "execution_count": 51,
     "metadata": {},
     "output_type": "execute_result"
    }
   ],
   "source": [
    "Clustering_Silhouette_Scores  = [ ['KMeans',kmeansSilhouette_Score ], ['Hierarchical',Hierarchical_Silhouette_Score ]]\n",
    "\n",
    "Clustering_Silhouette_Scores  = pd.DataFrame(Clustering_Silhouette_Scores, columns=['Clustering Method', 'Silhouette Score']) \n",
    "Clustering_Silhouette_Scores.sort_values(by='Silhouette Score', ascending= False)"
   ]
  },
  {
   "cell_type": "markdown",
   "metadata": {
    "id": "KHs9716UXha7"
   },
   "source": [
    "***The Hierarchical method seems more suitable with a high silhouette score, after checking clusters and the number of variables in each cluster***"
   ]
  },
  {
   "cell_type": "markdown",
   "metadata": {
    "id": "Ilv6nzUC6wQ4"
   },
   "source": [
    "# **Actionable insights and Recommendations**\n",
    "\n",
    "### **There appears to be three distinct categories of customers:**\n",
    "\n",
    "1. *In-person users: prefer to handle bank transactions in person. They have the medium number of credit cards and the medium available credit. They are also the most active users.*\n",
    "2. *Phone users: prefer verbally handling transactions. They have fewest credit cards and lowest credit card limit.*\n",
    "3. *Online users: prefer digital transactions. They also have the most credit cards and the highest available credit. Least number of customers have this type of behaviour.*\n",
    "\n",
    "***The customer preferences should be used to contact the customers. Online/phone users will probably prefer email/text notifications, while in-person users prefer mail notifications and upselling (when at the bank location).***\n",
    "\n",
    "***Also, the phone and in-person customers should be reached out to promote online banking.***\n",
    "\n",
    "### ***So, overall one very important suggestion which I need to give to my client improve their online services and reach more customers via email/messages rather than phone calls.*** "
   ]
  },
  {
   "cell_type": "code",
   "execution_count": null,
   "metadata": {
    "id": "dr4_Vq32XhbA"
   },
   "outputs": [],
   "source": []
  }
 ],
 "metadata": {
  "colab": {
   "provenance": []
  },
  "kernelspec": {
   "display_name": "Python 3 (ipykernel)",
   "language": "python",
   "name": "python3"
  },
  "language_info": {
   "codemirror_mode": {
    "name": "ipython",
    "version": 3
   },
   "file_extension": ".py",
   "mimetype": "text/x-python",
   "name": "python",
   "nbconvert_exporter": "python",
   "pygments_lexer": "ipython3",
   "version": "3.11.4"
  }
 },
 "nbformat": 4,
 "nbformat_minor": 1
}
